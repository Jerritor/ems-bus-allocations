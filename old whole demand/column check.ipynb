{
 "cells": [
  {
   "cell_type": "code",
   "execution_count": 5,
   "id": "13d93d5a",
   "metadata": {},
   "outputs": [],
   "source": [
    "import pandas as pd\n",
    "\n",
    "# Load the Excel file\n",
    "file_path = 'Shuttle-Allocation-Analysis February 16-29, 2024 (1).xlsx'  # Update this path to the location of your file\n",
    "xls = pd.ExcelFile(file_path)"
   ]
  },
  {
   "cell_type": "code",
   "execution_count": 6,
   "id": "5affda7b",
   "metadata": {},
   "outputs": [
    {
     "name": "stdout",
     "output_type": "stream",
     "text": [
      "Columns for sheet 16:\n",
      "Index(['SHIFT', 'ROUTE', 'EMS BLDG IN-HOUSE', 'Unnamed: 3', 'Unnamed: 4',\n",
      "       'Unnamed: 5', 'Unnamed: 6', 'Unnamed: 7', 'Unnamed: 8', 'Unnamed: 9',\n",
      "       ...\n",
      "       'Unnamed: 212', 'WORTHY TOTAL COST', 'Unnamed: 214', 'Unnamed: 215',\n",
      "       'ACTUAL TAXI RATE', 'Unnamed: 217', 'HC', 'Unnamed: 219', 'COST',\n",
      "       'Unnamed: 221'],\n",
      "      dtype='object', length=222)\n",
      "\n"
     ]
    }
   ],
   "source": [
    "# Load one of the sheets to inspect its structure\n",
    "sheet_name = xls.sheet_names[0]  # Use the first sheet for inspection\n",
    "sheet_data = pd.read_excel(xls, sheet_name=sheet_name, header=6)  # Skip the first six rows\n",
    "\n",
    "# Print the column names and first few rows\n",
    "print(f\"Columns for sheet {sheet_name}:\\n{sheet_data.columns}\\n\")\n",
    "#print(f\"First few rows of data for sheet {sheet_name}:\\n{sheet_data.head()}\\n\")"
   ]
  },
  {
   "cell_type": "code",
   "execution_count": null,
   "id": "e493eed4",
   "metadata": {},
   "outputs": [],
   "source": []
  }
 ],
 "metadata": {
  "kernelspec": {
   "display_name": "Python 3 (ipykernel)",
   "language": "python",
   "name": "python3"
  },
  "language_info": {
   "codemirror_mode": {
    "name": "ipython",
    "version": 3
   },
   "file_extension": ".py",
   "mimetype": "text/x-python",
   "name": "python",
   "nbconvert_exporter": "python",
   "pygments_lexer": "ipython3",
   "version": "3.8.7"
  }
 },
 "nbformat": 4,
 "nbformat_minor": 5
}
