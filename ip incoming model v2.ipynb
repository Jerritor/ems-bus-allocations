{
 "cells": [
  {
   "cell_type": "code",
   "execution_count": 2,
   "id": "bdd01a99",
   "metadata": {},
   "outputs": [],
   "source": [
    "import pulp\n",
    "import pandas as pd\n",
    "import numpy as np"
   ]
  },
  {
   "cell_type": "code",
   "execution_count": 3,
   "id": "489d5c05",
   "metadata": {},
   "outputs": [],
   "source": [
    "# Define the problem\n",
    "prob = pulp.LpProblem(\"Incoming_Bus_Allocation\", pulp.LpMinimize)"
   ]
  },
  {
   "cell_type": "code",
   "execution_count": 4,
   "id": "3bab6501",
   "metadata": {},
   "outputs": [],
   "source": [
    "# Define sets\n",
    "solo_routes = ['ALABANG','BINAN','CARMONA','BALIBAGO','CABUYAO','CALAMBA']  # List of solo routes\n",
    "hybrid_routes = [('ALABANG','CARMONA'),('BINAN','CARMONA'),('CALAMBA','CABUYAO')]  # List of hybrid routes (each element is a tuple (i, j))\n",
    "\n",
    "# Import parameters (to be replaced with actual data import code)\n",
    "cost_small_bus = {}  # Dictionary with costs for small buses on solo routes\n",
    "cost_large_bus = {}  # Dictionary with costs for large buses on solo routes\n",
    "cost_small_hybrid_route = {}  # Dictionary with costs for small hybrid routes\n",
    "cost_large_hybrid_route = {}  # Dictionary with costs for large hybrid routes\n",
    "capacity_small_bus = 18\n",
    "capacity_large_bus = 56\n",
    "buffer_current_small = {}  # Dictionary with buffer capacities for small buses\n",
    "buffer_current_large = {}  # Dictionary with buffer capacities for large buses\n",
    "demand = {}  # Dictionary of demands for each route"
   ]
  },
  {
   "cell_type": "code",
   "execution_count": 5,
   "id": "d7949979",
   "metadata": {},
   "outputs": [],
   "source": [
    "# Loading cost rates from the spreadsheet\n",
    "rates_file_path = 'Bus Rate cleaned.xlsx'\n",
    "xls = pd.ExcelFile(rates_file_path)\n",
    "\n",
    "# Load the sheet into a DataFrame\n",
    "cost_df = pd.read_excel(xls, sheet_name=0)\n",
    "\n",
    "# Load the sheet into a DataFrame\n",
    "cost_df = pd.read_excel(xls, sheet_name=0)\n",
    "\n",
    "# Extracting costs\n",
    "for index, row in cost_df.iterrows():\n",
    "    route = row['ROUTE']\n",
    "    total_large = row['TOTAL']\n",
    "    total_small = row['TOTAL.1']\n",
    "    \n",
    "    # Check if it's a hybrid route\n",
    "    if 'VIA' in route:\n",
    "        route_parts = route.split(' VIA ')\n",
    "        route_tuple = (route_parts[1], route_parts[0])\n",
    "        cost_large_hybrid_route[route_tuple] = total_large\n",
    "        cost_small_hybrid_route[route_tuple] = total_small\n",
    "    else:\n",
    "        cost_large_bus[route] = total_large\n",
    "        cost_small_bus[route] = total_small"
   ]
  },
  {
   "cell_type": "code",
   "execution_count": 6,
   "id": "10118ac5",
   "metadata": {},
   "outputs": [],
   "source": [
    "# Add bus capacities and buffer size\n",
    "\n",
    "#Edit this buffer if needed. For now, it's a flat 3 people buffer per bus\n",
    "buffer_small = 0\n",
    "buffer_large = 3\n",
    "\n",
    "for r in solo_routes:\n",
    "    buffer_current_small[r]=buffer_small\n",
    "    buffer_current_large[r]=buffer_large\n",
    "    \n",
    "for hr in hybrid_routes:\n",
    "    buffer_current_small[hr]=buffer_small\n",
    "    buffer_current_large[hr]=buffer_large"
   ]
  },
  {
   "cell_type": "code",
   "execution_count": 8,
   "id": "6a940026",
   "metadata": {},
   "outputs": [
    {
     "name": "stdout",
     "output_type": "stream",
     "text": [
      "{'ALABANG': 3, 'BINAN': 3, 'CARMONA': 3, 'BALIBAGO': 3, 'CABUYAO': 3, 'CALAMBA': 3, ('ALABANG', 'CARMONA'): 3, ('BINAN', 'CARMONA'): 3, ('CALAMBA', 'CABUYAO'): 3}\n"
     ]
    }
   ],
   "source": [
    "print(buffer_current_large)"
   ]
  },
  {
   "cell_type": "code",
   "execution_count": 6,
   "id": "12f2b27c",
   "metadata": {},
   "outputs": [],
   "source": [
    "#Demands \n",
    "\n",
    "# Load the data\n",
    "demand_file_path = 'cleaned_bus_shuttle_data_v31.csv'\n",
    "bus_data = pd.read_csv(demand_file_path)\n",
    "\n",
    "# Create a dictionary of dictionaries to store the 'ROUTE':'TOTAL' for each shift for each day\n",
    "shift_data = {}\n",
    "\n",
    "# Iterate through each unique date\n",
    "for date in bus_data['DATE'].unique():\n",
    "    shift_data[date] = {}\n",
    "    date_data = bus_data[bus_data['DATE'] == date]\n",
    "    \n",
    "    # Iterate through each unique shift\n",
    "    for shift in date_data['SHIFT'].unique():\n",
    "        shift_data[date][shift] = {}\n",
    "        shift_data_date_shift = date_data[date_data['SHIFT'] == shift]\n",
    "        \n",
    "        # Populate the dictionary for each route and its total\n",
    "        for _, row in shift_data_date_shift.iterrows():\n",
    "            route_name = row['ROUTE'].upper()\n",
    "            shift_data[date][shift][route_name] = row['TOTAL']\n",
    "\n",
    "# EDIT THIS IF NECESSARY\n",
    "# Select one of the dictionaries for testing\n",
    "test_date = '25'  # Select the date\n",
    "test_shift = 'OUT 4PM'  # Select the shift\n",
    "test_dict = shift_data[test_date][test_shift]\n",
    "\n",
    "# Display the selected dictionary for testing\n",
    "# test_dict\n",
    "\n",
    "demand = test_dict"
   ]
  },
  {
   "cell_type": "code",
   "execution_count": 7,
   "id": "b0723a58",
   "metadata": {},
   "outputs": [
    {
     "data": {
      "text/plain": [
       "{'ALABANG': 4,\n",
       " 'BINAN': 6,\n",
       " 'CARMONA': 4,\n",
       " 'BALIBAGO': 31,\n",
       " 'TAGAPO': 0,\n",
       " 'CABUYAO': 4,\n",
       " 'CALAMBA': 7}"
      ]
     },
     "execution_count": 7,
     "metadata": {},
     "output_type": "execute_result"
    }
   ],
   "source": [
    "demand"
   ]
  },
  {
   "cell_type": "code",
   "execution_count": 8,
   "id": "52e2aa45",
   "metadata": {},
   "outputs": [
    {
     "name": "stdout",
     "output_type": "stream",
     "text": [
      "Preprocessed solo routes: ['ALABANG', 'BINAN', 'CARMONA', 'BALIBAGO', 'CABUYAO', 'CALAMBA']\n",
      "Preprocessed hybrid routes: [('ALABANG', 'CARMONA'), ('BINAN', 'CARMONA'), ('CALAMBA', 'CABUYAO')]\n",
      "Preprocessed cost_small_bus: {'ALABANG': 1423.5, 'BINAN': 586.5, 'BALIBAGO': 1038.0, 'CABUYAO': 586.5, 'CALAMBA': 1300.5}\n",
      "Preprocessed cost_large_bus: {'ALABANG': 3072, 'BINAN': 2460, 'CARMONA': 1881, 'BALIBAGO': 1881, 'CABUYAO': 1935, 'CALAMBA': 2127}\n",
      "Preprocessed cost_small_hybrid_route: {('ALABANG', 'CARMONA'): 1518.0, ('BINAN', 'CARMONA'): 630.0, ('CALAMBA', 'CABUYAO'): 630.0}\n",
      "Preprocessed cost_large_hybrid_route: {('ALABANG', 'CARMONA'): 3270, ('BINAN', 'CARMONA'): 2550, ('CALAMBA', 'CABUYAO'): 2625}\n"
     ]
    }
   ],
   "source": [
    "# Preprocessing to exclude NaN values\n",
    "def preprocess_costs(cost_dict):\n",
    "    return {k: v for k, v in cost_dict.items() if not pd.isna(v)}\n",
    "\n",
    "cost_small_bus = preprocess_costs(cost_small_bus)\n",
    "cost_large_bus = preprocess_costs(cost_large_bus)\n",
    "cost_small_hybrid_route = preprocess_costs(cost_small_hybrid_route)\n",
    "cost_large_hybrid_route = preprocess_costs(cost_large_hybrid_route)\n",
    "\n",
    "# Updated sets based on preprocessed costs\n",
    "solo_routes = [route for route in solo_routes if route in cost_small_bus or route in cost_large_bus]\n",
    "hybrid_routes = [route for route in hybrid_routes if route in cost_small_hybrid_route or route in cost_large_hybrid_route]\n",
    "\n",
    "print(\"Preprocessed solo routes:\", solo_routes)\n",
    "print(\"Preprocessed hybrid routes:\", hybrid_routes)\n",
    "print(\"Preprocessed cost_small_bus:\", cost_small_bus)\n",
    "print(\"Preprocessed cost_large_bus:\", cost_large_bus)\n",
    "print(\"Preprocessed cost_small_hybrid_route:\", cost_small_hybrid_route)\n",
    "print(\"Preprocessed cost_large_hybrid_route:\", cost_large_hybrid_route)"
   ]
  },
  {
   "cell_type": "code",
   "execution_count": 9,
   "id": "ece85969",
   "metadata": {},
   "outputs": [
    {
     "name": "stdout",
     "output_type": "stream",
     "text": [
      "Welcome to the CBC MILP Solver \n",
      "Version: 2.10.3 \n",
      "Build Date: Dec 15 2019 \n",
      "\n",
      "command line - /Library/Frameworks/Python.framework/Versions/3.8/lib/python3.8/site-packages/pulp/solverdir/cbc/osx/64/cbc /var/folders/hk/l0w5001d7pdc860p4ssywh3h0000gn/T/eee1eab5dc45477794f8c7b7dc1c60a1-pulp.mps -timeMode elapsed -branch -printingOptions all -solution /var/folders/hk/l0w5001d7pdc860p4ssywh3h0000gn/T/eee1eab5dc45477794f8c7b7dc1c60a1-pulp.sol (default strategy 1)\n",
      "At line 2 NAME          MODEL\n",
      "At line 3 ROWS\n",
      "At line 11 COLUMNS\n",
      "At line 86 RHS\n",
      "At line 93 BOUNDS\n",
      "At line 111 ENDATA\n",
      "Problem MODEL has 6 rows, 17 columns and 23 elements\n",
      "Coin0008I MODEL read with 0 errors\n",
      "Option for timeMode changed from cpu to elapsed\n",
      "Continuous objective value is 1710.86 - 0.00 seconds\n",
      "Cgl0003I 0 fixed, 17 tightened bounds, 6 strengthened rows, 0 substitutions\n",
      "Cgl0003I 0 fixed, 0 tightened bounds, 5 strengthened rows, 0 substitutions\n",
      "Cgl0003I 0 fixed, 0 tightened bounds, 5 strengthened rows, 0 substitutions\n",
      "Cgl0003I 0 fixed, 0 tightened bounds, 5 strengthened rows, 0 substitutions\n",
      "Cgl0003I 0 fixed, 0 tightened bounds, 1 strengthened rows, 0 substitutions\n",
      "Cgl0004I processed model has 6 rows, 17 columns (17 integer (0 of which binary)) and 23 elements\n",
      "Cutoff increment increased from 1e-05 to 1.4999\n",
      "Cbc0012I Integer solution of 5602.5 found by greedy cover after 0 iterations and 0 nodes (0.01 seconds)\n",
      "Cbc0012I Integer solution of 4759.5 found by DiveCoefficient after 0 iterations and 0 nodes (0.01 seconds)\n",
      "Cbc0038I Full problem 6 rows 17 columns, reduced to 0 rows 0 columns\n",
      "Cbc0012I Integer solution of 4564.5 found by DiveCoefficient after 1 iterations and 0 nodes (0.01 seconds)\n",
      "Cbc0031I 1 added rows had average density of 2\n",
      "Cbc0013I At root node, 1 cuts changed objective from 4471.1667 to 4564.5 in 2 passes\n",
      "Cbc0014I Cut generator 0 (Probing) - 0 row cuts average 0.0 elements, 1 column cuts (1 active)  in 0.000 seconds - new frequency is 1\n",
      "Cbc0014I Cut generator 1 (Gomory) - 1 row cuts average 2.0 elements, 0 column cuts (0 active)  in 0.000 seconds - new frequency is 1\n",
      "Cbc0014I Cut generator 2 (Knapsack) - 0 row cuts average 0.0 elements, 0 column cuts (0 active)  in 0.000 seconds - new frequency is -100\n",
      "Cbc0014I Cut generator 3 (Clique) - 0 row cuts average 0.0 elements, 0 column cuts (0 active)  in 0.000 seconds - new frequency is -100\n",
      "Cbc0014I Cut generator 4 (MixedIntegerRounding2) - 1 row cuts average 2.0 elements, 0 column cuts (0 active)  in 0.000 seconds - new frequency is 1\n",
      "Cbc0014I Cut generator 5 (FlowCover) - 0 row cuts average 0.0 elements, 0 column cuts (0 active)  in 0.000 seconds - new frequency is -100\n",
      "Cbc0014I Cut generator 6 (TwoMirCuts) - 1 row cuts average 2.0 elements, 0 column cuts (0 active)  in 0.000 seconds - new frequency is 1\n",
      "Cbc0001I Search completed - best objective 4564.5, took 1 iterations and 0 nodes (0.01 seconds)\n",
      "Cbc0035I Maximum depth 0, 0 variables fixed on reduced cost\n",
      "Cuts at root node changed objective from 4471.17 to 4564.5\n",
      "Probing was tried 2 times and created 1 cuts of which 0 were active after adding rounds of cuts (0.000 seconds)\n",
      "Gomory was tried 2 times and created 1 cuts of which 0 were active after adding rounds of cuts (0.000 seconds)\n",
      "Knapsack was tried 2 times and created 0 cuts of which 0 were active after adding rounds of cuts (0.000 seconds)\n",
      "Clique was tried 2 times and created 0 cuts of which 0 were active after adding rounds of cuts (0.000 seconds)\n",
      "MixedIntegerRounding2 was tried 2 times and created 1 cuts of which 0 were active after adding rounds of cuts (0.000 seconds)\n",
      "FlowCover was tried 2 times and created 0 cuts of which 0 were active after adding rounds of cuts (0.000 seconds)\n",
      "TwoMirCuts was tried 2 times and created 1 cuts of which 0 were active after adding rounds of cuts (0.000 seconds)\n",
      "ZeroHalf was tried 1 times and created 0 cuts of which 0 were active after adding rounds of cuts (0.000 seconds)\n",
      "\n",
      "Result - Optimal solution found\n",
      "\n",
      "Objective value:                4564.50000000\n",
      "Enumerated nodes:               0\n",
      "Total iterations:               1\n",
      "Time (CPU seconds):             0.01\n",
      "Time (Wallclock seconds):       0.01\n",
      "\n",
      "Option for printingOptions changed from normal to all\n",
      "Total time (CPU seconds):       0.01   (Wallclock seconds):       0.01\n",
      "\n",
      "x_large_ALABANG = 0.0\n",
      "x_large_BALIBAGO = 1.0\n",
      "x_large_BINAN = 0.0\n",
      "x_large_CABUYAO = 0.0\n",
      "x_large_CALAMBA = 0.0\n",
      "x_large_CARMONA = 0.0\n",
      "x_small_ALABANG = 1.0\n",
      "x_small_BALIBAGO = 0.0\n",
      "x_small_BINAN = 0.0\n",
      "x_small_CABUYAO = 0.0\n",
      "x_small_CALAMBA = 0.0\n",
      "y_large_('ALABANG',_'CARMONA') = 0.0\n",
      "y_large_('BINAN',_'CARMONA') = 0.0\n",
      "y_large_('CALAMBA',_'CABUYAO') = 0.0\n",
      "y_small_('ALABANG',_'CARMONA') = 0.0\n",
      "y_small_('BINAN',_'CARMONA') = 1.0\n",
      "y_small_('CALAMBA',_'CABUYAO') = 1.0\n",
      "Total Cost =  4564.5\n"
     ]
    }
   ],
   "source": [
    "# Decision Variables\n",
    "x_small = pulp.LpVariable.dicts(\"x_small\", solo_routes, lowBound=0, cat='Integer')\n",
    "x_large = pulp.LpVariable.dicts(\"x_large\", solo_routes, lowBound=0, cat='Integer')\n",
    "y_small = pulp.LpVariable.dicts(\"y_small\", hybrid_routes, lowBound=0, cat='Integer')\n",
    "y_large = pulp.LpVariable.dicts(\"y_large\", hybrid_routes, lowBound=0, cat='Integer')\n",
    "\n",
    "# Objective Function\n",
    "prob += (\n",
    "    pulp.lpSum([cost_small_bus[i] * x_small[i] for i in solo_routes if cost_small_bus.get(i, 0) > 0]) +\n",
    "    pulp.lpSum([cost_large_bus[i] * x_large[i] for i in solo_routes if cost_large_bus.get(i, 0) > 0]) +\n",
    "    pulp.lpSum([cost_small_hybrid_route.get((i, j), 0) * y_small[(i, j)] for (i, j) in hybrid_routes if cost_small_hybrid_route.get((i, j), 0) > 0]) +\n",
    "    pulp.lpSum([cost_large_hybrid_route.get((i, j), 0) * y_large[(i, j)] for (i, j) in hybrid_routes if cost_large_hybrid_route.get((i, j), 0) > 0])\n",
    ")\n",
    "\n",
    "# Constraints\n",
    "for i in solo_routes:\n",
    "    prob += (\n",
    "        (capacity_small_bus * x_small[i] if cost_small_bus.get(i, 0) > 0 else 0) +\n",
    "        (capacity_large_bus * x_large[i] if cost_large_bus.get(i, 0) > 0 else 0) +\n",
    "        pulp.lpSum([capacity_small_bus * y_small[(i, j)] for j in solo_routes if cost_small_hybrid_route.get((i, j)) is not None]) +\n",
    "        pulp.lpSum([capacity_large_bus * y_large[(i, j)] for j in solo_routes if cost_large_hybrid_route.get((i, j)) is not None]) +\n",
    "        pulp.lpSum([capacity_small_bus * y_small[(j, i)] for j in solo_routes if cost_small_hybrid_route.get((j, i)) is not None]) +\n",
    "        pulp.lpSum([capacity_large_bus * y_large[(j, i)] for j in solo_routes if cost_large_hybrid_route.get((j, i)) is not None])\n",
    "        >= demand.get(i, 0), f\"Demand_Constraint_{i}\"\n",
    "    )\n",
    "\n",
    "# Solve the problem\n",
    "prob.solve()\n",
    "\n",
    "# Print the results\n",
    "for v in prob.variables():\n",
    "    print(v.name, \"=\", v.varValue)\n",
    "\n",
    "print(\"Total Cost = \", pulp.value(prob.objective))"
   ]
  },
  {
   "cell_type": "code",
   "execution_count": 10,
   "id": "a47740de",
   "metadata": {},
   "outputs": [
    {
     "name": "stdout",
     "output_type": "stream",
     "text": [
      "Constraint Demand_Constraint_ALABANG: 56*x_large_ALABANG + 18*x_small_ALABANG + 56*y_large_('ALABANG',_'CARMONA') + 18*y_small_('ALABANG',_'CARMONA') >= 4\n",
      "Constraint Demand_Constraint_BINAN: 56*x_large_BINAN + 18*x_small_BINAN + 56*y_large_('BINAN',_'CARMONA') + 18*y_small_('BINAN',_'CARMONA') >= 6\n",
      "Constraint Demand_Constraint_CARMONA: 56*x_large_CARMONA + 56*y_large_('ALABANG',_'CARMONA') + 56*y_large_('BINAN',_'CARMONA') + 18*y_small_('ALABANG',_'CARMONA') + 18*y_small_('BINAN',_'CARMONA') >= 4\n",
      "Constraint Demand_Constraint_BALIBAGO: 56*x_large_BALIBAGO + 18*x_small_BALIBAGO >= 31\n",
      "Constraint Demand_Constraint_CABUYAO: 56*x_large_CABUYAO + 18*x_small_CABUYAO + 56*y_large_('CALAMBA',_'CABUYAO') + 18*y_small_('CALAMBA',_'CABUYAO') >= 4\n",
      "Constraint Demand_Constraint_CALAMBA: 56*x_large_CALAMBA + 18*x_small_CALAMBA + 56*y_large_('CALAMBA',_'CABUYAO') + 18*y_small_('CALAMBA',_'CABUYAO') >= 7\n"
     ]
    }
   ],
   "source": [
    "for name, constraint in prob.constraints.items():\n",
    "    print(f\"Constraint {name}: {constraint}\")"
   ]
  }
 ],
 "metadata": {
  "kernelspec": {
   "display_name": "Python 3 (ipykernel)",
   "language": "python",
   "name": "python3"
  },
  "language_info": {
   "codemirror_mode": {
    "name": "ipython",
    "version": 3
   },
   "file_extension": ".py",
   "mimetype": "text/x-python",
   "name": "python",
   "nbconvert_exporter": "python",
   "pygments_lexer": "ipython3",
   "version": "3.8.7"
  }
 },
 "nbformat": 4,
 "nbformat_minor": 5
}
